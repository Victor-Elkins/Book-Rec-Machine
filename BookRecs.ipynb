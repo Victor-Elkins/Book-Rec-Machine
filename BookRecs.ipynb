{
 "cells": [
  {
   "cell_type": "code",
   "execution_count": 2,
   "id": "f5e939a9",
   "metadata": {},
   "outputs": [],
   "source": [
    "liked_books = [\"111332\",\"14\",\"6251563\",\"80585\",\"29983711\",\"15789109\",\"3\"]"
   ]
  },
  {
   "cell_type": "code",
   "execution_count": 3,
   "id": "9aeb9ed0",
   "metadata": {},
   "outputs": [],
   "source": [
    "\n",
    "\n",
    "csv_book_mapping = {}\n",
    "\n",
    "with open(\"book_id_map.csv\", \"r\") as f:\n",
    "    while True:\n",
    "        line = f.readline()\n",
    "        if not line:\n",
    "            break\n",
    "        csv_id, book_id = line.strip().split(\",\")\n",
    "        csv_book_mapping[csv_id] = book_id\n",
    "\n"
   ]
  },
  {
   "cell_type": "code",
   "execution_count": 4,
   "id": "958de173",
   "metadata": {},
   "outputs": [
    {
     "data": {
      "text/plain": [
       "'34684622'"
      ]
     },
     "execution_count": 4,
     "metadata": {},
     "output_type": "execute_result"
    }
   ],
   "source": [
    "csv_book_mapping['0']"
   ]
  },
  {
   "cell_type": "code",
   "execution_count": null,
   "id": "f77b264a",
   "metadata": {},
   "outputs": [],
   "source": [
    "\n",
    "\n",
    "overlap_users = set()\n",
    "\n",
    "with open(\"goodreads_interactions.csv\", 'r') as f:\n",
    "    while True:\n",
    "        line = f.readline()\n",
    "        if not line:\n",
    "            break\n",
    "        user_id, csv_id, _, rating, _ = line.split(\",\")\n",
    "        \n",
    "        if user_id in overlap_users:\n",
    "            continue\n",
    "\n",
    "        try:\n",
    "            rating = int(rating)\n",
    "        except ValueError:\n",
    "            continue\n",
    "        \n",
    "        book_id = csv_book_mapping[csv_id]\n",
    "        \n",
    "        if book_id in liked_books and rating >= 4:\n",
    "                overlap_users.add(user_id)\n",
    "\n",
    "\n"
   ]
  },
  {
   "cell_type": "code",
   "execution_count": null,
   "id": "835c6ee1",
   "metadata": {},
   "outputs": [],
   "source": [
    "\n",
    "\n",
    "rec_lines = []\n",
    "\n",
    "with open(\"goodreads_interactions.csv\", 'r') as f:\n",
    "    while True:\n",
    "        line = f.readline()\n",
    "        if not line:\n",
    "            break\n",
    "        user_id, csv_id, _, rating, _ = line.split(\",\")\n",
    "        \n",
    "        if user_id in overlap_users:\n",
    "            book_id = csv_book_mapping[csv_id]\n",
    "            rec_lines.append([user_id, book_id, rating])\n",
    "\n"
   ]
  },
  {
   "cell_type": "code",
   "execution_count": null,
   "id": "9c0e7975",
   "metadata": {},
   "outputs": [],
   "source": []
  },
  {
   "cell_type": "code",
   "execution_count": null,
   "id": "842db9fa",
   "metadata": {},
   "outputs": [],
   "source": []
  },
  {
   "cell_type": "code",
   "execution_count": null,
   "id": "7d7a5ba0",
   "metadata": {},
   "outputs": [],
   "source": [
    "\n",
    "\n",
    "import pandas as pd\n",
    "\n",
    "recs = pd.DataFrame(rec_lines, columns=[\"user_id\", \"book_id\", \"rating\"])\n",
    "recs[\"book_id\"] = recs[\"book_id\"].astype(str)\n",
    "\n"
   ]
  },
  {
   "cell_type": "code",
   "execution_count": null,
   "id": "aeb1e685",
   "metadata": {},
   "outputs": [],
   "source": [
    "recs"
   ]
  },
  {
   "cell_type": "code",
   "execution_count": null,
   "id": "c4413ae1",
   "metadata": {},
   "outputs": [],
   "source": [
    "top_recs = recs[\"book_id\"].value_counts().head(10)\n",
    "top_recs = top_recs.index.values\n",
    "books_titles = pd.read_json(\"books_titles.json\")\n",
    "books_titles[\"book_id\"] = books_titles[\"book_id\"].astype(str)"
   ]
  },
  {
   "cell_type": "code",
   "execution_count": null,
   "id": "b37340f2",
   "metadata": {},
   "outputs": [],
   "source": [
    "books_titles.head()"
   ]
  },
  {
   "cell_type": "code",
   "execution_count": null,
   "id": "917c8caa",
   "metadata": {},
   "outputs": [],
   "source": [
    "\n",
    "\n",
    "books_titles[books_titles[\"book_id\"].isin(top_recs)]\n",
    "\n",
    "\n",
    "\n"
   ]
  },
  {
   "cell_type": "code",
   "execution_count": null,
   "id": "4739db1b",
   "metadata": {},
   "outputs": [],
   "source": [
    "all_recs = recs[\"book_id\"].value_counts()\n",
    "all_recs = all_recs.to_frame().reset_index()\n",
    "all_recs.columns = [\"book_id\", \"book_count\"]\n",
    "all_recs.head(5)"
   ]
  },
  {
   "cell_type": "code",
   "execution_count": null,
   "id": "b8975191",
   "metadata": {},
   "outputs": [],
   "source": [
    "all_recs = all_recs.merge(books_titles, how=\"inner\", on=\"book_id\")\n",
    "\n",
    "\n",
    "all_recs[\"score\"] = all_recs[\"book_count\"] * (all_recs[\"book_count\"] / all_recs[\"ratings\"])\n",
    "\n",
    "\n",
    "all_recs.sort_values(\"score\", ascending=False).head(10)\n",
    "\n",
    "\n"
   ]
  },
  {
   "cell_type": "code",
   "execution_count": null,
   "id": "1d897ed8",
   "metadata": {},
   "outputs": [],
   "source": [
    "all_recs[all_recs[\"book_count\"] > 200].sort_values(\"score\", ascending=False).head(10)"
   ]
  },
  {
   "cell_type": "code",
   "execution_count": null,
   "id": "4827b5b2",
   "metadata": {},
   "outputs": [],
   "source": [
    "popular_recs = all_recs[all_recs[\"book_count\"] > 200].sort_values(\"score\", ascending=False)\n",
    "def make_clickable(val):\n",
    "    return '<a target=\"_blank\" href=\"{}\">Goodreads</a>'.format(val, val)\n",
    "\n",
    "def show_image(val):\n",
    "    return '<a href=\"{}\"><img src=\"{}\" width=50></img></a>'.format(val, val)\n",
    "\n",
    "\n",
    "popular_recs[~popular_recs[\"book_id\"].isin(liked_books)].head(10).style.format({'url': make_clickable, 'cover_image': show_image})\n",
    "\n"
   ]
  },
  {
   "cell_type": "code",
   "execution_count": null,
   "id": "fd4f0f21",
   "metadata": {},
   "outputs": [],
   "source": []
  }
 ],
 "metadata": {
  "kernelspec": {
   "display_name": "Python 3 (ipykernel)",
   "language": "python",
   "name": "python3"
  },
  "language_info": {
   "codemirror_mode": {
    "name": "ipython",
    "version": 3
   },
   "file_extension": ".py",
   "mimetype": "text/x-python",
   "name": "python",
   "nbconvert_exporter": "python",
   "pygments_lexer": "ipython3",
   "version": "3.9.12"
  }
 },
 "nbformat": 4,
 "nbformat_minor": 5
}
