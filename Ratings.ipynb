{
 "cells": [
  {
   "cell_type": "code",
   "execution_count": null,
   "id": "a5bbf82c",
   "metadata": {},
   "outputs": [],
   "source": [
    "\n",
    "\n",
    "import pandas as pd\n",
    "\n",
    "# to generate this, click on goodreads \"my books\".  Then click \"print\".  Then set the &per_page=1000 query param\n",
    "books = pd.read_html(\"book_tables.txt\")[0]\n",
    "\n",
    "\n",
    "\n",
    "\n",
    "books\n",
    "\n"
   ]
  },
  {
   "cell_type": "code",
   "execution_count": null,
   "id": "69b6da62",
   "metadata": {},
   "outputs": [],
   "source": [
    "books[\"title\"] = books[\"title\"].str.replace(\"title \", \"\")\n",
    "\n",
    "\n",
    "books.loc[0][\"rating\"]\n",
    "\n"
   ]
  },
  {
   "cell_type": "code",
   "execution_count": null,
   "id": "01c29450",
   "metadata": {},
   "outputs": [],
   "source": [
    "\n",
    "\n",
    "ratings_string = books[\"rating\"].str.extract(\"(\\[.+\\])\")\n",
    "\n",
    "\n",
    "books[\"rating\"] = ratings_string[0].str.slice(start=2, stop=3)\n",
    "\n",
    "\n",
    "books = books[[\"title\", \"rating\"]]\n",
    "\n",
    "\n",
    "\n",
    "titles = pd.read_json(\"books_titles.json\")\n",
    "titles[\"book_id\"] = titles[\"book_id\"].astype(str)\n",
    "\n",
    "\n",
    "\n",
    "from sklearn.feature_extraction.text import TfidfVectorizer\n",
    "vectorizer = TfidfVectorizer()\n",
    "\n",
    "tfidf = vectorizer.fit_transform(titles[\"mod_title\"])\n",
    "\n",
    "\n",
    "\n",
    "import re\n",
    "from sklearn.metrics.pairwise import cosine_similarity\n",
    "import numpy as np\n",
    "\n",
    "def search(query,vectorizer):\n",
    "    processed = re.sub(\"[^a-zA-Z0-9 ]\", \"\", query.lower())\n",
    "    query_vec = vectorizer.transform([query])\n",
    "    similarity = cosine_similarity(query_vec, tfidf).flatten()\n",
    "    indices = np.argpartition(similarity, -10)[-10:]\n",
    "    results = titles.iloc[indices]\n",
    "    results = results.sort_values(\"ratings\", ascending=False)\n",
    "    \n",
    "    return results.iloc[0,:][\"book_id\"]\n",
    "\n",
    "\n",
    "\n",
    "books[\"book_id\"] = books[\"title\"].apply(lambda x: search(x, vectorizer))\n",
    "books[\"user_id\"] = \"-1\"\n",
    "books = books[[\"user_id\", \"book_id\", \"rating\", \"title\"]]\n",
    "books = books[~pd.isnull(books[\"rating\"])]\n",
    "\n",
    "\n",
    "books.to_csv(\"my_books.csv\")\n",
    "\n"
   ]
  }
 ],
 "metadata": {
  "kernelspec": {
   "display_name": "Python 3 (ipykernel)",
   "language": "python",
   "name": "python3"
  },
  "language_info": {
   "codemirror_mode": {
    "name": "ipython",
    "version": 3
   },
   "file_extension": ".py",
   "mimetype": "text/x-python",
   "name": "python",
   "nbconvert_exporter": "python",
   "pygments_lexer": "ipython3",
   "version": "3.9.13"
  }
 },
 "nbformat": 4,
 "nbformat_minor": 5
}
